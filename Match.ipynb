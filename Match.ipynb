{
 "cells": [
  {
   "cell_type": "code",
   "execution_count": 305,
   "metadata": {
    "collapsed": true
   },
   "outputs": [],
   "source": [
    "import xml.etree.ElementTree as ET\n",
    "\n",
    "\n",
    "def get_calibration(img_file):\n",
    "    namespaces = {'leica': 'http://www.leica.com'}\n",
    "    tree = ET.parse(img_file + '.anx')\n",
    "    dx_basic_annotation_settings = tree.getroot()\n",
    "\n",
    "    # Get image size metadata\n",
    "    image_size_elm = dx_basic_annotation_settings.find('leica:ImageSize', namespaces)\n",
    "    width = int(image_size_elm.find('leica:Width', namespaces).text)\n",
    "    height = int(image_size_elm.find('leica:Height', namespaces).text)\n",
    "\n",
    "    center_width = width / 2\n",
    "    center_height = height / 2\n",
    "\n",
    "    # Get image calibration metadata\n",
    "    calibration = dx_basic_annotation_settings.find('leica:Calibration', namespaces)\n",
    "    metres_per_pixel_elm = calibration.find('leica:MetresPerPixel', namespaces)\n",
    "    metres_per_pixel = float(metres_per_pixel_elm.text)\n",
    "    µm_per_pixel = metres_per_pixel * 1_000_000\n",
    "    unit_per_pixel = metres_per_pixel * 10_000\n",
    "    \n",
    "    return {\n",
    "        'metres_per_pixel': metres_per_pixel,\n",
    "        'center_width': center_width,\n",
    "        'center_height': center_height,\n",
    "        'µm_per_pixel': µm_per_pixel,\n",
    "        'unit_per_pixel': unit_per_pixel,\n",
    "    }"
   ]
  },
  {
   "cell_type": "code",
   "execution_count": 306,
   "metadata": {
    "collapsed": true
   },
   "outputs": [],
   "source": [
    "# Get nematocyst locations\n",
    "\n",
    "\n",
    "def get_points(img_file, calibration):\n",
    "    tree = ET.parse(img_file + '.lmd')\n",
    "    lm_data_store = tree.getroot()\n",
    "    xml_points = lm_data_store.find('LMDataEntity').findall('LMMeasurementItemPoints')\n",
    "    points = list(map(lambda point: {\n",
    "        'raw_x_offset': float(point.find('PositionX').text),\n",
    "        'raw_y_offset': float(point.find('PositionY').text),\n",
    "        'index': int(point.find('PointIndex').text),\n",
    "        'id': point.find('ItemId').text,\n",
    "    }, xml_points))\n",
    "    \n",
    "    points = [p for p in points if p['index'] != 2]\n",
    "\n",
    "    unit_per_pixel = calibration['unit_per_pixel']\n",
    "    \n",
    "    # arbitrary translation factors\n",
    "    x_cal = 0\n",
    "    y_cal = 0\n",
    "\n",
    "    for point in points:\n",
    "        point['x'] = (point['raw_x_offset'] * unit_per_pixel) + calibration['center_width'] + x_cal\n",
    "        point['y'] = (point['raw_y_offset'] * unit_per_pixel) + calibration['center_height'] + y_cal\n",
    "    \n",
    "    return points"
   ]
  },
  {
   "cell_type": "code",
   "execution_count": 307,
   "metadata": {
    "collapsed": true
   },
   "outputs": [],
   "source": [
    "import matplotlib.pyplot as plt\n",
    "import matplotlib.image as mpimg\n",
    "\n",
    "\n",
    "def plt_image(img_flie, points):\n",
    "    fig = plt.figure(figsize=(15, 15))\n",
    "    img = mpimg.imread(img_file)\n",
    "    plt.imshow(img)\n",
    "    plt.plot([p['x'] for p in points], [p['y'] for p in points], 'ro')"
   ]
  },
  {
   "cell_type": "code",
   "execution_count": 309,
   "metadata": {},
   "outputs": [],
   "source": [
    "import glob\n",
    "files = glob.glob('/Users/paul/Documents/Streamline process/measured/**/*.tif')\n",
    "\n",
    "for img_file in files:\n",
    "    calibration = get_calibration(img_file)\n",
    "    points = get_points(img_file, calibration)\n",
    "    plt_image(img_file, points)"
   ]
  },
  {
   "cell_type": "code",
   "execution_count": null,
   "metadata": {
    "collapsed": true
   },
   "outputs": [],
   "source": []
  }
 ],
 "metadata": {
  "kernelspec": {
   "display_name": "Python 3",
   "language": "python",
   "name": "python3"
  },
  "language_info": {
   "codemirror_mode": {
    "name": "ipython",
    "version": 3
   },
   "file_extension": ".py",
   "mimetype": "text/x-python",
   "name": "python",
   "nbconvert_exporter": "python",
   "pygments_lexer": "ipython3",
   "version": "3.6.3"
  }
 },
 "nbformat": 4,
 "nbformat_minor": 2
}
